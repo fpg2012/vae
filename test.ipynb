{
 "cells": [
  {
   "cell_type": "code",
   "execution_count": 4,
   "metadata": {},
   "outputs": [
    {
     "data": {
      "text/plain": [
       "Decoder(\n",
       "  (mlp): Sequential(\n",
       "    (0): Linear(in_features=50, out_features=200, bias=True)\n",
       "    (1): ReLU()\n",
       "    (2): Linear(in_features=200, out_features=784, bias=True)\n",
       "    (3): Sigmoid()\n",
       "  )\n",
       ")"
      ]
     },
     "execution_count": 4,
     "metadata": {},
     "output_type": "execute_result"
    }
   ],
   "source": [
    "import torch\n",
    "import intel_extension_for_pytorch\n",
    "from vae import *\n",
    "\n",
    "enc = torch.load('encoder2.pth')\n",
    "dec = torch.load('decoder2.pth')\n",
    "enc.eval()\n",
    "dec.eval()\n"
   ]
  },
  {
   "cell_type": "code",
   "execution_count": 5,
   "metadata": {},
   "outputs": [],
   "source": [
    "import matplotlib.pyplot as plt\n"
   ]
  },
  {
   "cell_type": "code",
   "execution_count": 6,
   "metadata": {},
   "outputs": [],
   "source": [
    "from torchvision import datasets\n",
    "from torchvision.transforms import ToTensor\n",
    "from torch.utils.data import Dataset, DataLoader\n",
    "\n",
    "def my_transform(x):\n",
    "    return to_tensor(x).flatten().to(device)\n",
    "\n",
    "training_data = datasets.MNIST(\n",
    "        root='data',\n",
    "        train=True,\n",
    "        download=True,\n",
    "        transform=my_transform\n",
    "    )"
   ]
  },
  {
   "cell_type": "code",
   "execution_count": 54,
   "metadata": {},
   "outputs": [
    {
     "name": "stdout",
     "output_type": "stream",
     "text": [
      "tensor([-0.0800, -0.0478, -0.6280,  0.1833, -0.7944, -1.4989, -0.1362,  0.0113,\n",
      "         0.7703,  0.3061,  1.0656,  1.6841,  0.5580,  0.0690,  0.0923, -0.1409,\n",
      "        -0.1111, -0.2674, -0.0715, -1.7099,  0.0821,  0.4015, -0.2576, -1.3532,\n",
      "        -0.2654, -0.0607,  0.0554, -0.5080,  0.1645,  1.2679,  0.0235, -1.8045,\n",
      "        -0.0113, -0.2109, -0.8757,  0.0510,  0.0338, -1.5276,  0.6378, -0.0893,\n",
      "        -1.7529,  0.0156,  0.1806,  0.2340,  0.1017,  0.2427, -0.3761, -0.1930,\n",
      "        -0.3033,  0.0743], device='xpu:0', grad_fn=<SplitBackward0>) tensor([ 4.7235,  0.9376, -0.4785,  0.9816,  0.7096,  0.2490,  0.9879, -1.0291,\n",
      "         0.3423,  0.2877, -0.2076,  0.5981, -0.1936,  0.8885,  0.9793, -0.9699,\n",
      "        -0.5115, -0.8752,  0.8670, -0.2088, -1.0107,  0.5016,  0.9505,  0.1931,\n",
      "         0.9868, -0.9881,  1.0177, -0.0819,  0.9909, -0.4245,  0.4427,  0.2229,\n",
      "         0.8547,  1.0365,  0.4015,  1.0174, -0.9631, -0.3784,  0.4057, -0.3695,\n",
      "        -0.3271,  0.9526,  0.9542,  0.9032,  0.9612,  0.9874, -1.7116, -0.1697,\n",
      "         0.2106, -0.9980], device='xpu:0', grad_fn=<SplitBackward0>)\n"
     ]
    },
    {
     "data": {
      "text/plain": [
       "<matplotlib.image.AxesImage at 0x772bac049f60>"
      ]
     },
     "execution_count": 54,
     "metadata": {},
     "output_type": "execute_result"
    },
    {
     "data": {
      "image/png": "[encoded data removed]",
      "text/plain": [
       "<Figure size 640x480 with 2 Axes>"
      ]
     },
     "metadata": {},
     "output_type": "display_data"
    }
   ],
   "source": [
    "x, _ = training_data[203]\n",
    "mu, sigma = enc(x).split(50)\n",
    "print(mu, sigma)\n",
    "z = mu + torch.randn(50, device='xpu')\n",
    "y = dec(z.unsqueeze(0))\n",
    "y = y.reshape(28, 28)\n",
    "fig, ax = plt.subplots(1, 2)\n",
    "ax[0].imshow(y.cpu().detach(), cmap='gray')\n",
    "ax[1].imshow(x.reshape(28,28).cpu(), cmap='gray')"
   ]
  }
 ],
 "metadata": {
  "kernelspec": {
   "display_name": "sam2",
   "language": "python",
   "name": "python3"
  },
  "language_info": {
   "codemirror_mode": {
    "name": "ipython",
    "version": 3
   },
   "file_extension": ".py",
   "mimetype": "text/x-python",
   "name": "python",
   "nbconvert_exporter": "python",
   "pygments_lexer": "ipython3",
   "version": "3.10.15"
  }
 },
 "nbformat": 4,
 "nbformat_minor": 2
}
